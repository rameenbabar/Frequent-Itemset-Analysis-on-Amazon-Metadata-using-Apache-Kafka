{
 "cells": [
  {
   "cell_type": "code",
   "execution_count": null,
   "metadata": {
    "vscode": {
     "languageId": "plaintext"
    }
   },
   "outputs": [],
   "source": [
    "import json\n",
    "import os\n",
    "from tqdm import tqdm\n",
    "\n",
    "#Defining a function named sample_json that takes four parameters\n",
    "#input_file - path to input json file\n",
    "#output_file - path to output json file\n",
    "#target_size_gb - target size of output file in gigabytes\n",
    "#filter_key - the key to filter records by default is 'also_buy'\n",
    "def sample_json(input_file, output_file, target_size_gb, filter_key='also_buy'):\n",
    "    #convert target size to bytes\n",
    "    target_size_bytes = target_size_gb * 1024**3\n",
    "    current_size_bytes = 0\n",
    "    \n",
    "    #open input file in read mode and output file in write mode\n",
    "    with open(input_file, 'r', encoding='utf-8') as infile, open(output_file, 'w', encoding='utf-8') as outfile:\n",
    "        for line in tqdm(infile):\n",
    "            #load json data from current line\n",
    "            record = json.loads(line)\n",
    "            #check if filter ker exists and is not empty in current record\n",
    "            if record.get(filter_key):\n",
    "                #If it exists, write the record to output file and add newline\n",
    "                outfile.write(json.dumps(record) + '\\n')\n",
    "                #Add the size of current line to current size of output file\n",
    "                current_size_bytes += len(line.encode('utf-8'))    \n",
    "            \n",
    "            #if current size of output file is greater than or equal to target size\n",
    "            if current_size_bytes >= target_size_bytes:\n",
    "                #stop writing to output file\n",
    "                break\n",
    "    \n",
    "    print(f\"Finished sampling. Output size: {current_size_bytes / 1024**3:.2f} GB\")            "
   ]
  },
  {
   "cell_type": "code",
   "execution_count": null,
   "metadata": {
    "vscode": {
     "languageId": "plaintext"
    }
   },
   "outputs": [],
   "source": [
    "sample_json('All_Amazon_Meta.json', 'Sampled_Amazon_Meta.json', 15)"
   ]
  }
 ],
 "metadata": {
  "language_info": {
   "name": "python"
  }
 },
 "nbformat": 4,
 "nbformat_minor": 2
}
